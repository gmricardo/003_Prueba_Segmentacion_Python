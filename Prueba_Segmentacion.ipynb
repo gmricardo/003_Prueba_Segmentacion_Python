{
 "cells": [
  {
   "cell_type": "code",
   "execution_count": 1,
   "id": "de002366-033c-4316-a66f-62d0b4753021",
   "metadata": {},
   "outputs": [],
   "source": [
    "#Pandas para el tratamiento de DataFrames\n",
    "import pandas as pd\n",
    "#Se importa para graficar información\n",
    "import matplotlib.pyplot as plt\n",
    "#Se usa para mostrar las gráficas\n",
    "%matplotlib inline"
   ]
  },
  {
   "cell_type": "code",
   "execution_count": 2,
   "id": "6604ee1e-1350-462c-a13e-1bdd6192a2d6",
   "metadata": {},
   "outputs": [],
   "source": [
    "data = pd.read_csv('uber-raw-data-apr14.csv')"
   ]
  },
  {
   "cell_type": "code",
   "execution_count": 3,
   "id": "357a3444-5114-4dfe-8a48-b8e418bb8082",
   "metadata": {},
   "outputs": [
    {
     "name": "stdout",
     "output_type": "stream",
     "text": [
      "<class 'pandas.core.frame.DataFrame'>\n",
      "RangeIndex: 564516 entries, 0 to 564515\n",
      "Data columns (total 4 columns):\n",
      " #   Column     Non-Null Count   Dtype  \n",
      "---  ------     --------------   -----  \n",
      " 0   Date/Time  564516 non-null  object \n",
      " 1   Lat        564516 non-null  float64\n",
      " 2   Lon        564516 non-null  float64\n",
      " 3   Base       564516 non-null  object \n",
      "dtypes: float64(2), object(2)\n",
      "memory usage: 17.2+ MB\n"
     ]
    }
   ],
   "source": [
    "data.info()"
   ]
  },
  {
   "cell_type": "code",
   "execution_count": 4,
   "id": "a5758463-adc4-42c1-affb-fbbc2049f7d5",
   "metadata": {},
   "outputs": [],
   "source": [
    "cant = 1000\n",
    "datos = data.head(cant)\n",
    "X = datos.copy()"
   ]
  },
  {
   "cell_type": "code",
   "execution_count": 5,
   "id": "cd43ae50-2d79-4b54-8d06-c4100a8595c1",
   "metadata": {},
   "outputs": [],
   "source": [
    "# Eliminar las columnas de Date y Base\n",
    "X.drop(['Date/Time', 'Base'], # Drop para elimiar filas o columnas\n",
    "       axis=1, inplace=True) # inplace=true utiliza el mismo dataframe"
   ]
  },
  {
   "cell_type": "code",
   "execution_count": 6,
   "id": "58f1039e-83b7-43fb-8544-18f0d147507e",
   "metadata": {},
   "outputs": [
    {
     "data": {
      "text/plain": [
       "Lat    0\n",
       "Lon    0\n",
       "dtype: int64"
      ]
     },
     "execution_count": 6,
     "metadata": {},
     "output_type": "execute_result"
    }
   ],
   "source": [
    "# Verificar la existencia de nulos\n",
    "X.isnull().sum() #isnull: función que verifica la existencia de valores nulos"
   ]
  },
  {
   "cell_type": "code",
   "execution_count": 7,
   "id": "1239b3dc-10e6-42e0-88c7-ecf65421b367",
   "metadata": {},
   "outputs": [
    {
     "data": {
      "text/plain": [
       "Index(['Lat', 'Lon'], dtype='object')"
      ]
     },
     "execution_count": 7,
     "metadata": {},
     "output_type": "execute_result"
    }
   ],
   "source": [
    "cols = X.columns # Obtener los valordes de la columnas del data frame\n",
    "cols"
   ]
  },
  {
   "cell_type": "code",
   "execution_count": 8,
   "id": "a968b890-1d20-4dfa-9a93-775abec17ff9",
   "metadata": {},
   "outputs": [],
   "source": [
    "# Utilizamos el módulo preprocessing para importar la función MinMaxScaler\n",
    "from sklearn.preprocessing import MinMaxScaler\n",
    "\n",
    "ms = MinMaxScaler() # Objeto ms guarda la función\n",
    "X = ms.fit_transform(X) # Aplica la función a los datos X"
   ]
  },
  {
   "cell_type": "code",
   "execution_count": 9,
   "id": "b77c9bb0-a550-4cf9-97ca-cf6b3d769155",
   "metadata": {},
   "outputs": [],
   "source": [
    "X = pd.DataFrame(X, columns=[cols])"
   ]
  },
  {
   "cell_type": "code",
   "execution_count": 10,
   "id": "9093fb30-855d-449a-aaa4-25e02ef240a4",
   "metadata": {},
   "outputs": [
    {
     "data": {
      "text/html": [
       "<div>\n",
       "<style scoped>\n",
       "    .dataframe tbody tr th:only-of-type {\n",
       "        vertical-align: middle;\n",
       "    }\n",
       "\n",
       "    .dataframe tbody tr th {\n",
       "        vertical-align: top;\n",
       "    }\n",
       "\n",
       "    .dataframe thead tr th {\n",
       "        text-align: left;\n",
       "    }\n",
       "</style>\n",
       "<table border=\"1\" class=\"dataframe\">\n",
       "  <thead>\n",
       "    <tr>\n",
       "      <th></th>\n",
       "      <th>Lat</th>\n",
       "      <th>Lon</th>\n",
       "    </tr>\n",
       "  </thead>\n",
       "  <tbody>\n",
       "    <tr>\n",
       "      <th>0</th>\n",
       "      <td>0.425126</td>\n",
       "      <td>0.465193</td>\n",
       "    </tr>\n",
       "    <tr>\n",
       "      <th>1</th>\n",
       "      <td>0.313014</td>\n",
       "      <td>0.385577</td>\n",
       "    </tr>\n",
       "    <tr>\n",
       "      <th>2</th>\n",
       "      <td>0.326001</td>\n",
       "      <td>0.432787</td>\n",
       "    </tr>\n",
       "    <tr>\n",
       "      <th>3</th>\n",
       "      <td>0.398092</td>\n",
       "      <td>0.442488</td>\n",
       "    </tr>\n",
       "    <tr>\n",
       "      <th>4</th>\n",
       "      <td>0.399682</td>\n",
       "      <td>0.447890</td>\n",
       "    </tr>\n",
       "  </tbody>\n",
       "</table>\n",
       "</div>"
      ],
      "text/plain": [
       "        Lat       Lon\n",
       "0  0.425126  0.465193\n",
       "1  0.313014  0.385577\n",
       "2  0.326001  0.432787\n",
       "3  0.398092  0.442488\n",
       "4  0.399682  0.447890"
      ]
     },
     "execution_count": 10,
     "metadata": {},
     "output_type": "execute_result"
    }
   ],
   "source": [
    "X.head()"
   ]
  },
  {
   "cell_type": "code",
   "execution_count": 25,
   "id": "b2341efc-0b9f-4369-92e8-bd6545c42363",
   "metadata": {},
   "outputs": [
    {
     "data": {
      "image/png": "[encoded data removed]",
      "text/plain": [
       "<Figure size 640x480 with 1 Axes>"
      ]
     },
     "metadata": {},
     "output_type": "display_data"
    }
   ],
   "source": [
    "from sklearn.cluster import KMeans # Importa la función KMeans del módulo cluster\n",
    "cs = [] #cs: es un objeto tipo lista vacío\n",
    "for i in range (2,11):\n",
    "    kmeans = KMeans(n_clusters = i,\n",
    "                    init = 'k-means++',\n",
    "                    max_iter = 300,\n",
    "                    n_init = 10,\n",
    "                    random_state = 0)\n",
    "    kmeans.fit(X.values)\n",
    "    cs.append(kmeans.inertia_)\n",
    "plt.plot(range(2,11),cs)\n",
    "plt.title('Metodo del codo')\n",
    "plt.xlabel('Número de clusters')\n",
    "plt.ylabel('K medios')\n",
    "plt.show()\n"
   ]
  },
  {
   "cell_type": "code",
   "execution_count": 12,
   "id": "01a64e2f-4d58-4f8d-933c-60e0471ac29c",
   "metadata": {},
   "outputs": [
    {
     "name": "stdout",
     "output_type": "stream",
     "text": [
      "[1.565873542085198, 1.3787855974549617, 1.245277083997101, 0.6005507208292191, 0.4801717841217119, 0.3210291924861195, 0.27278185552268885, 0.27070286829198564]\n",
      "La diferencia en  3  es  0.18708794463023626\n",
      "La diferencia en  4  es  0.13350851345786063\n",
      "La diferencia en  5  es  0.6447263631678819\n",
      "La diferencia en  6  es  0.12037893670750721\n",
      "La diferencia en  7  es  0.1591425916355924\n",
      "La diferencia en  8  es  0.04824733696343064\n",
      "La diferencia en  9  es  0.002078987230703211\n",
      "La cantidad de clusters debe ser:  5\n"
     ]
    }
   ],
   "source": [
    "# Se calcula la pendiente en cada uno de los valores\n",
    "diff = []\n",
    "for i in range(len(cs)-1):\n",
    "    # Las diferencias deben ser positivas. La gráfica es decreciente\n",
    "    #El orden de esta diferencia se hace izquieda menos derecha\n",
    "    diff.append(cs[i]-cs[i+1])\n",
    "print(diff)\n",
    "\n",
    "# Se calcula el mayor cambio en las pendientes, lo que identifica el codo\n",
    "maxi = 0\n",
    "posMax = -1\n",
    "# Se recorre la lista de diferencia de pendientes\n",
    "for d in range(len(diff)-1):\n",
    "    dif = diff[d]-diff[d+1]\n",
    "    print(\"La diferencia en \", d + 3, \" es \", dif)\n",
    "    if dif > maxi:\n",
    "        maxi = dif\n",
    "        posMax = d + 3\n",
    "print(\"La cantidad de clusters debe ser: \", posMax)"
   ]
  },
  {
   "cell_type": "code",
   "execution_count": 13,
   "id": "6919308b-f7a7-454f-88ff-17abea1d7a26",
   "metadata": {},
   "outputs": [],
   "source": [
    "from sklearn.metrics import silhouette_score"
   ]
  },
  {
   "cell_type": "code",
   "execution_count": 26,
   "id": "87efc247-9352-4418-b722-ee21ba50c4e9",
   "metadata": {},
   "outputs": [
    {
     "name": "stdout",
     "output_type": "stream",
     "text": [
      "2\n",
      "3\n",
      "4\n",
      "5\n",
      "6\n"
     ]
    },
    {
     "data": {
      "text/plain": [
       "Text(0.5, 1.0, 'Silouette para data Uber')"
      ]
     },
     "execution_count": 26,
     "metadata": {},
     "output_type": "execute_result"
    },
    {
     "data": {
      "image/png": "[encoded data removed]",
      "text/plain": [
       "<Figure size 640x480 with 1 Axes>"
      ]
     },
     "metadata": {},
     "output_type": "display_data"
    }
   ],
   "source": [
    "sil = []\n",
    "for i in range (2,7):\n",
    "    print(i)\n",
    "    kmeans = KMeans(n_clusters = i,\n",
    "                    init = 'k-means++',\n",
    "                    max_iter = 300,\n",
    "                    n_init = 10,\n",
    "                    random_state = 0)\n",
    "    sil.append(silhouette_score(X.values, \n",
    "                                kmeans.fit_predict(X.values)))\n",
    "plt.plot(range(2,7), sil)\n",
    "plt.xlabel(\"k\")\n",
    "plt.title(\"Silouette para data Uber\")"
   ]
  },
  {
   "cell_type": "code",
   "execution_count": 15,
   "id": "8a810b0f-41b2-477e-a92e-65c9d3db785f",
   "metadata": {},
   "outputs": [
    {
     "name": "stdout",
     "output_type": "stream",
     "text": [
      "[0.016445690087119713, 0.025159451780864428, 0.03397765978257039, 0.0048224827858749375]\n",
      "La diferencia en  3  es  -0.008713761693744715\n",
      "La diferencia en  4  es  -0.008818208001705963\n",
      "La diferencia en  5  es  0.029155176996695453\n",
      "La cantidad de clusters debe ser:  5\n"
     ]
    }
   ],
   "source": [
    "# Se calcula la pendiente en cada uno de los valores\n",
    "diff = []\n",
    "for i in range(len(sil)-1):\n",
    "    # Las diferencias deben ser positivas. La gráfica es decreciente\n",
    "    #El orden de esta diferencia se hace izquieda menos derecha\n",
    "    diff.append(sil[i+1]-sil[i])\n",
    "print(diff)\n",
    "\n",
    "# Se calcula el mayor cambio en las pendientes, lo que identifica el codo\n",
    "maxi = 0\n",
    "posMax = -1\n",
    "# Se recorre la lista de diferencia de pendientes\n",
    "for d in range(len(diff)-1):\n",
    "    dif = diff[d]-diff[d+1]\n",
    "    print(\"La diferencia en \", d + 3, \" es \", dif)\n",
    "    if dif > maxi:\n",
    "        maxi = dif\n",
    "        posMax = d + 3\n",
    "print(\"La cantidad de clusters debe ser: \", posMax)"
   ]
  },
  {
   "cell_type": "code",
   "execution_count": 16,
   "id": "5e70172e-b821-42c3-97d8-174f7b67e599",
   "metadata": {},
   "outputs": [],
   "source": [
    "km = KMeans(n_clusters = posMax, # k óptiomo calculado desde el arreglo\n",
    "                init = 'k-means++',\n",
    "                max_iter = 300,\n",
    "                n_init = 10,\n",
    "                random_state = 0)\n",
    "y_means = km.fit_predict(X.values)\n",
    "# Los valores de X\n",
    "x=X.values"
   ]
  },
  {
   "cell_type": "code",
   "execution_count": 17,
   "id": "11a773aa-eb3f-4cf8-8b7a-6525ebe18bc0",
   "metadata": {},
   "outputs": [
    {
     "data": {
      "text/plain": [
       "array([1, 2, 2, 1, 1, 2, 2, 1, 1, 1, 2, 1, 2, 3, 1, 1, 1, 2, 1, 2, 1, 1,\n",
       "       3, 2, 0, 4, 0, 0, 2, 2, 2, 1, 1, 1, 1, 2, 1, 3, 0, 2, 1, 2, 1, 2,\n",
       "       2, 2, 2, 1, 1, 1, 1, 1, 2, 2, 1, 2, 2, 2, 1, 4, 1, 2, 0, 1, 2, 1,\n",
       "       1, 2, 1, 1, 1, 1, 2, 2, 1, 2, 1, 2, 1, 1, 2, 1, 1, 1, 1, 1, 1, 1,\n",
       "       2, 1, 1, 1, 2, 1, 2, 1, 1, 1, 1, 1, 2, 2, 1, 1, 1, 1, 1, 2, 1, 2,\n",
       "       1, 1, 2, 1, 1, 4, 1, 1, 2, 1, 1, 2, 2, 1, 2, 4, 2, 1, 1, 1, 1, 1,\n",
       "       1, 2, 2, 1, 2, 1, 2, 2, 2, 1, 1, 1, 1, 2, 2, 2, 1, 2, 2, 2, 0, 2,\n",
       "       4, 1, 2, 0, 2, 2, 1, 1, 1, 2, 2, 2, 2, 1, 0, 1, 1, 2, 2, 1, 1, 1,\n",
       "       1, 2, 1, 1, 2, 2, 1, 4, 1, 1, 2, 1, 1, 0, 0, 2, 2, 1, 1, 1, 1, 1,\n",
       "       2, 2, 4, 2, 1, 1, 1, 1, 2, 2, 1, 1, 1, 1, 1, 2, 1, 1, 2, 1, 2, 2,\n",
       "       2, 1, 1, 1, 1, 1, 1, 1, 1, 2, 2, 1, 1, 1, 1, 1, 2, 2, 2, 1, 2, 1,\n",
       "       2, 1, 2, 2, 2, 1, 1, 1, 2, 2, 1, 3, 2, 1, 1, 1, 2, 1, 2, 1, 0, 1,\n",
       "       0, 0, 1, 1, 1, 2, 1, 1, 1, 1, 1, 1, 1, 2, 1, 1, 2, 1, 1, 2, 1, 1,\n",
       "       1, 2, 2, 2, 1, 1, 1, 1, 2, 1, 1, 2, 4, 4, 1, 1, 2, 2, 2, 1, 2, 2,\n",
       "       1, 1, 1, 1, 2, 2, 1, 2, 1, 2, 2, 1, 2, 1, 2, 1, 2, 1, 2, 1, 1, 2,\n",
       "       1, 2, 3, 2, 2, 2, 2, 1, 1, 2, 1, 2, 1, 1, 1, 1, 0, 2, 4, 4, 1, 1,\n",
       "       3, 1, 1, 1, 1, 1, 1, 1, 2, 1, 2, 0, 1, 1, 2, 2, 1, 1, 1, 2, 2, 2,\n",
       "       4, 1, 1, 2, 1, 1, 2, 2, 2, 1, 1, 4, 1, 2, 1, 1, 2, 0, 2, 1, 2, 2,\n",
       "       2, 1, 1, 1, 2, 2, 1, 1, 4, 1, 1, 1, 2, 1, 1, 2, 1, 1, 2, 1, 2, 2,\n",
       "       1, 1, 1, 1, 2, 1, 2, 0, 1, 3, 1, 1, 2, 1, 1, 2, 1, 2, 2, 1, 2, 2,\n",
       "       1, 2, 1, 1, 1, 2, 1, 1, 1, 1, 0, 2, 1, 2, 2, 1, 1, 0, 1, 0, 1, 1,\n",
       "       1, 2, 2, 1, 1, 1, 1, 1, 1, 2, 2, 1, 1, 3, 4, 1, 2, 1, 1, 3, 2, 1,\n",
       "       2, 2, 2, 0, 2, 1, 1, 0, 1, 1, 1, 2, 2, 1, 2, 2, 1, 1, 1, 1, 1, 1,\n",
       "       2, 1, 1, 2, 1, 1, 1, 1, 1, 1, 1, 1, 2, 1, 1, 4, 2, 1, 1, 1, 2, 1,\n",
       "       1, 2, 1, 1, 1, 1, 3, 2, 1, 1, 0, 1, 2, 0, 3, 1, 1, 1, 1, 1, 2, 3,\n",
       "       2, 1, 1, 2, 1, 1, 1, 1, 1, 2, 0, 2, 1, 2, 1, 1, 2, 1, 1, 1, 2, 2,\n",
       "       1, 1, 1, 4, 1, 2, 1, 2, 1, 2, 1, 1, 1, 2, 1, 1, 1, 2, 1, 2, 1, 2,\n",
       "       1, 1, 2, 1, 1, 2, 4, 2, 2, 2, 1, 2, 1, 2, 1, 1, 1, 2, 1, 1, 1, 1,\n",
       "       2, 1, 2, 1, 1, 1, 1, 1, 1, 1, 1, 0, 1, 2, 1, 1, 3, 2, 1, 1, 1, 1,\n",
       "       2, 1, 2, 2, 1, 1, 1, 1, 1, 1, 1, 1, 2, 2, 2, 1, 2, 2, 1, 2, 2, 2,\n",
       "       2, 1, 1, 1, 1, 1, 1, 1, 1, 1, 1, 2, 1, 1, 2, 2, 1, 2, 1, 1, 2, 2,\n",
       "       2, 2, 1, 2, 1, 0, 1, 1, 1, 1, 2, 2, 1, 1, 2, 1, 1, 1, 2, 1, 1, 2,\n",
       "       2, 2, 1, 1, 1, 1, 2, 2, 1, 1, 2, 2, 1, 1, 2, 1, 1, 1, 1, 2, 1, 2,\n",
       "       2, 2, 2, 2, 1, 1, 1, 2, 2, 2, 2, 3, 2, 2, 3, 1, 1, 1, 1, 2, 2, 1,\n",
       "       1, 3, 2, 2, 2, 1, 2, 1, 2, 2, 1, 1, 2, 2, 1, 1, 2, 2, 1, 1, 1, 1,\n",
       "       2, 2, 1, 2, 2, 2, 3, 1, 1, 2, 1, 1, 2, 2, 1, 1, 2, 2, 1, 2, 2, 1,\n",
       "       2, 1, 1, 2, 0, 1, 2, 2, 1, 1, 1, 2, 2, 0, 2, 1, 1, 2, 2, 2, 2, 2,\n",
       "       1, 2, 1, 2, 1, 2, 1, 1, 2, 1, 2, 2, 2, 2, 2, 4, 2, 1, 2, 1, 1, 0,\n",
       "       3, 1, 2, 0, 2, 2, 1, 1, 2, 2, 3, 2, 2, 1, 1, 2, 4, 2, 2, 1, 1, 1,\n",
       "       2, 2, 2, 2, 1, 1, 2, 3, 2, 2, 2, 2, 2, 1, 1, 1, 1, 2, 1, 2, 2, 2,\n",
       "       1, 2, 2, 2, 2, 1, 1, 1, 1, 1, 2, 2, 2, 2, 2, 1, 1, 1, 1, 2, 1, 2,\n",
       "       1, 1, 1, 1, 3, 1, 2, 1, 2, 2, 2, 1, 1, 1, 1, 1, 2, 2, 2, 2, 2, 2,\n",
       "       1, 2, 1, 2, 2, 2, 2, 1, 1, 2, 1, 1, 1, 2, 1, 2, 2, 1, 1, 2, 2, 2,\n",
       "       2, 2, 2, 2, 1, 2, 2, 2, 3, 2, 1, 2, 2, 1, 2, 4, 2, 1, 2, 2, 2, 2,\n",
       "       2, 2, 2, 1, 2, 2, 2, 2, 1, 2, 1, 2, 2, 2, 4, 2, 2, 2, 2, 1, 1, 1,\n",
       "       1, 2, 2, 2, 2, 2, 2, 2, 1, 2])"
      ]
     },
     "execution_count": 17,
     "metadata": {},
     "output_type": "execute_result"
    }
   ],
   "source": [
    "y_means"
   ]
  },
  {
   "cell_type": "code",
   "execution_count": 18,
   "id": "c7201fdc-32e4-4a2c-8130-60516cdfc9c6",
   "metadata": {},
   "outputs": [
    {
     "data": {
      "image/png": "[encoded data removed]",
      "text/plain": [
       "<Figure size 640x480 with 1 Axes>"
      ]
     },
     "metadata": {},
     "output_type": "display_data"
    }
   ],
   "source": [
    "listaColores = ['purple','yellow','cyan','blue','green']\n",
    "for ruta in range(posMax):\n",
    "    # Máscara para filtrar las filtas por cluster\n",
    "    mascara = y_means == ruta\n",
    "    # Se agrega a la gráfica la información del cluster\n",
    "    plt.scatter(x[mascara,0], x[mascara,1], s=50, c = listaColores[ruta], label = f'Ruta {ruta}')\n",
    "\n",
    "plt.scatter(km.cluster_centers_[:,0], km.cluster_centers_[:,1], s=50, c='red', label='centroide')\n",
    "\n",
    "plt.style.use('fivethirtyeight')\n",
    "plt.title('K Means Clustering', fontsize=12)\n",
    "plt.xlabel('Latitud')\n",
    "plt.ylabel('Longitud')\n",
    "plt.legend()\n",
    "\n",
    "plt.show()"
   ]
  },
  {
   "cell_type": "code",
   "execution_count": 19,
   "id": "5360eddb-f770-4bf4-8b44-2f33d6d08b13",
   "metadata": {},
   "outputs": [
    {
     "data": {
      "text/html": [
       "<div>\n",
       "<style scoped>\n",
       "    .dataframe tbody tr th:only-of-type {\n",
       "        vertical-align: middle;\n",
       "    }\n",
       "\n",
       "    .dataframe tbody tr th {\n",
       "        vertical-align: top;\n",
       "    }\n",
       "\n",
       "    .dataframe thead th {\n",
       "        text-align: right;\n",
       "    }\n",
       "</style>\n",
       "<table border=\"1\" class=\"dataframe\">\n",
       "  <thead>\n",
       "    <tr style=\"text-align: right;\">\n",
       "      <th></th>\n",
       "      <th>cluster_kmeans</th>\n",
       "    </tr>\n",
       "  </thead>\n",
       "  <tbody>\n",
       "    <tr>\n",
       "      <th>0</th>\n",
       "      <td>1</td>\n",
       "    </tr>\n",
       "    <tr>\n",
       "      <th>1</th>\n",
       "      <td>2</td>\n",
       "    </tr>\n",
       "    <tr>\n",
       "      <th>2</th>\n",
       "      <td>2</td>\n",
       "    </tr>\n",
       "    <tr>\n",
       "      <th>3</th>\n",
       "      <td>1</td>\n",
       "    </tr>\n",
       "    <tr>\n",
       "      <th>4</th>\n",
       "      <td>1</td>\n",
       "    </tr>\n",
       "  </tbody>\n",
       "</table>\n",
       "</div>"
      ],
      "text/plain": [
       "   cluster_kmeans\n",
       "0               1\n",
       "1               2\n",
       "2               2\n",
       "3               1\n",
       "4               1"
      ]
     },
     "execution_count": 19,
     "metadata": {},
     "output_type": "execute_result"
    }
   ],
   "source": [
    "# Perfilamiento\n",
    "cl_k_means = pd.DataFrame(y_means, columns=[\"cluster_kmeans\"])\n",
    "cl_k_means.head()"
   ]
  },
  {
   "cell_type": "code",
   "execution_count": 20,
   "id": "0f6970f3-f6c5-43f2-b039-173bb55451f2",
   "metadata": {},
   "outputs": [
    {
     "data": {
      "text/html": [
       "<div>\n",
       "<style scoped>\n",
       "    .dataframe tbody tr th:only-of-type {\n",
       "        vertical-align: middle;\n",
       "    }\n",
       "\n",
       "    .dataframe tbody tr th {\n",
       "        vertical-align: top;\n",
       "    }\n",
       "\n",
       "    .dataframe thead th {\n",
       "        text-align: right;\n",
       "    }\n",
       "</style>\n",
       "<table border=\"1\" class=\"dataframe\">\n",
       "  <thead>\n",
       "    <tr style=\"text-align: right;\">\n",
       "      <th></th>\n",
       "      <th>Date/Time</th>\n",
       "      <th>Lat</th>\n",
       "      <th>Lon</th>\n",
       "      <th>Base</th>\n",
       "      <th>cluster_kmeans</th>\n",
       "    </tr>\n",
       "  </thead>\n",
       "  <tbody>\n",
       "    <tr>\n",
       "      <th>0</th>\n",
       "      <td>4/1/2014 0:11:00</td>\n",
       "      <td>40.7690</td>\n",
       "      <td>-73.9549</td>\n",
       "      <td>B02512</td>\n",
       "      <td>1</td>\n",
       "    </tr>\n",
       "    <tr>\n",
       "      <th>1</th>\n",
       "      <td>4/1/2014 0:17:00</td>\n",
       "      <td>40.7267</td>\n",
       "      <td>-74.0345</td>\n",
       "      <td>B02512</td>\n",
       "      <td>2</td>\n",
       "    </tr>\n",
       "    <tr>\n",
       "      <th>2</th>\n",
       "      <td>4/1/2014 0:21:00</td>\n",
       "      <td>40.7316</td>\n",
       "      <td>-73.9873</td>\n",
       "      <td>B02512</td>\n",
       "      <td>2</td>\n",
       "    </tr>\n",
       "    <tr>\n",
       "      <th>3</th>\n",
       "      <td>4/1/2014 0:28:00</td>\n",
       "      <td>40.7588</td>\n",
       "      <td>-73.9776</td>\n",
       "      <td>B02512</td>\n",
       "      <td>1</td>\n",
       "    </tr>\n",
       "    <tr>\n",
       "      <th>4</th>\n",
       "      <td>4/1/2014 0:33:00</td>\n",
       "      <td>40.7594</td>\n",
       "      <td>-73.9722</td>\n",
       "      <td>B02512</td>\n",
       "      <td>1</td>\n",
       "    </tr>\n",
       "  </tbody>\n",
       "</table>\n",
       "</div>"
      ],
      "text/plain": [
       "          Date/Time      Lat      Lon    Base  cluster_kmeans\n",
       "0  4/1/2014 0:11:00  40.7690 -73.9549  B02512               1\n",
       "1  4/1/2014 0:17:00  40.7267 -74.0345  B02512               2\n",
       "2  4/1/2014 0:21:00  40.7316 -73.9873  B02512               2\n",
       "3  4/1/2014 0:28:00  40.7588 -73.9776  B02512               1\n",
       "4  4/1/2014 0:33:00  40.7594 -73.9722  B02512               1"
      ]
     },
     "execution_count": 20,
     "metadata": {},
     "output_type": "execute_result"
    }
   ],
   "source": [
    "datosCluster = pd.concat([datos, cl_k_means], axis=1)\n",
    "datosCluster.head()"
   ]
  },
  {
   "cell_type": "code",
   "execution_count": 21,
   "id": "8133ce69-68e8-4f39-b433-150e6b43f44a",
   "metadata": {},
   "outputs": [
    {
     "data": {
      "text/plain": [
       "cluster_kmeans\n",
       "1    520\n",
       "2    405\n",
       "0     31\n",
       "3     22\n",
       "4     22\n",
       "Name: count, dtype: int64"
      ]
     },
     "execution_count": 21,
     "metadata": {},
     "output_type": "execute_result"
    }
   ],
   "source": [
    "datosCluster[\"cluster_kmeans\"].value_counts()"
   ]
  },
  {
   "cell_type": "code",
   "execution_count": null,
   "id": "49497266-7448-48d8-976b-278cf684f145",
   "metadata": {},
   "outputs": [],
   "source": []
  }
 ],
 "metadata": {
  "kernelspec": {
   "display_name": "Python 3 (ipykernel)",
   "language": "python",
   "name": "python3"
  },
  "language_info": {
   "codemirror_mode": {
    "name": "ipython",
    "version": 3
   },
   "file_extension": ".py",
   "mimetype": "text/x-python",
   "name": "python",
   "nbconvert_exporter": "python",
   "pygments_lexer": "ipython3",
   "version": "3.11.2"
  }
 },
 "nbformat": 4,
 "nbformat_minor": 5
}
